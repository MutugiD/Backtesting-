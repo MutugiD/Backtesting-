{
 "cells": [
  {
   "cell_type": "markdown",
   "metadata": {},
   "source": [
    "from backtester.dataSource.csv_data_source import CsvDataSource"
   ]
  },
  {
   "cell_type": "code",
   "execution_count": 19,
   "metadata": {},
   "outputs": [],
   "source": [
    "cachedFolderName = '/data/'\n",
    "dataSetId = 'trainingData1'\n",
    "startDate = '2017/01/06'\n",
    "endDate = '2017/02/09'\n",
    "instrumentIds = ['MQK']\n",
    "downloadUrl = 'https://github.com/Auquan/auquan-historical-data/raw/master/qq2Data'"
   ]
  },
  {
   "cell_type": "code",
   "execution_count": 20,
   "metadata": {},
   "outputs": [
    {
     "name": "stdout",
     "output_type": "stream",
     "text": [
      "Processing data for stock: MQK\n"
     ]
    }
   ],
   "source": [
    "ds = CsvDataSource(cachedFolderName='historicalData/',\n",
    "                             dataSetId=dataSetId,\n",
    "                             instrumentIds=instrumentIds,\n",
    "                             downloadUrl = downloadUrl,\n",
    "                             timeKey = 'datetime',\n",
    "                             timeStringFormat = '%Y-%m-%d %H:%M:%S',\n",
    "                             startDateStr=startDate,\n",
    "                             endDateStr=endDate,\n",
    "                             liveUpdates=False,\n",
    "                             pad=True)"
   ]
  },
  {
   "cell_type": "code",
   "execution_count": 5,
   "metadata": {},
   "outputs": [],
   "source": [
    "def loadData(ds, id):\n",
    "    data = ds._bookDataByInstrument[id].getBookData()\n",
    "\n",
    "    data['Stock Price'] =  data['stockTopBidPrice'] +\\\n",
    "                           data['stockTopAskPrice'] / 2.0\n",
    "    data['Future Price'] = data['futureTopBidPrice'] +\\\n",
    "                           data['futureTopAskPrice'] / 2.0\n",
    "    data['Y(Target)'] = data['basis'].shift(-5)\n",
    "    del data['benchmark_score']\n",
    "    del data['FairValue']\n",
    "    return data\n",
    "\n",
    "data = loadData(ds,instrumentIds[0])"
   ]
  },
  {
   "cell_type": "code",
   "execution_count": 6,
   "metadata": {},
   "outputs": [
    {
     "name": "stdout",
     "output_type": "stream",
     "text": [
      "                     stockVWAP  futureVWAP  basis  stockTopBidVol  \\\n",
      "2017-01-06 09:17:00    517.773     512.492  5.425            79.0   \n",
      "2017-01-06 09:18:00    515.300     510.682  4.425            40.0   \n",
      "2017-01-06 09:19:00    516.225     511.342  4.950            81.0   \n",
      "2017-01-06 09:20:00    519.792     513.959  5.650           179.0   \n",
      "2017-01-06 09:21:00    520.270     513.819  6.400            68.0   \n",
      "2017-01-06 09:22:00    524.792     519.118  5.625          2299.0   \n",
      "\n",
      "                     stockTopAskVol  stockTopBidPrice  stockTopAskPrice  \\\n",
      "2017-01-06 09:17:00            79.0            518.00            518.30   \n",
      "2017-01-06 09:18:00            10.0            515.05            515.30   \n",
      "2017-01-06 09:19:00          1496.0            516.20            516.45   \n",
      "2017-01-06 09:20:00          1940.0            519.65            519.95   \n",
      "2017-01-06 09:21:00            93.0            520.45            520.60   \n",
      "2017-01-06 09:22:00          4924.0            524.60            525.00   \n",
      "\n",
      "                     futureTopBidVol  futureTopAskVol  futureTopBidPrice  ...  \\\n",
      "2017-01-06 09:17:00           4000.0           2000.0             512.60  ...   \n",
      "2017-01-06 09:18:00           2000.0           4000.0             510.65  ...   \n",
      "2017-01-06 09:19:00           2000.0           2000.0             511.25  ...   \n",
      "2017-01-06 09:20:00           2000.0           2000.0             514.05  ...   \n",
      "2017-01-06 09:21:00           2000.0           6000.0             513.85  ...   \n",
      "2017-01-06 09:22:00           2000.0           2000.0             519.00  ...   \n",
      "\n",
      "                     stockTotalAskVol  futureTotalBidVol  futureTotalAskVol  \\\n",
      "2017-01-06 09:17:00            2780.0            12000.0            12000.0   \n",
      "2017-01-06 09:18:00            1756.0            10000.0            24000.0   \n",
      "2017-01-06 09:19:00            3010.0            10000.0            14000.0   \n",
      "2017-01-06 09:20:00            3530.0            10000.0            12000.0   \n",
      "2017-01-06 09:21:00            2128.0            12000.0            24000.0   \n",
      "2017-01-06 09:22:00            5890.0            10000.0            12000.0   \n",
      "\n",
      "                     stockAverageBidPrice  stockAverageAskPrice  \\\n",
      "2017-01-06 09:17:00               517.493               518.654   \n",
      "2017-01-06 09:18:00               514.919               515.708   \n",
      "2017-01-06 09:19:00               515.986               516.488   \n",
      "2017-01-06 09:20:00               519.549               520.079   \n",
      "2017-01-06 09:21:00               520.022               520.756   \n",
      "2017-01-06 09:22:00               524.558               525.054   \n",
      "\n",
      "                     futureAverageBidPrice  futureAverageAskPrice  \\\n",
      "2017-01-06 09:17:00                512.000                513.142   \n",
      "2017-01-06 09:18:00                510.340                511.283   \n",
      "2017-01-06 09:19:00                511.050                511.650   \n",
      "2017-01-06 09:20:00                513.470                514.650   \n",
      "2017-01-06 09:21:00                513.392                514.775   \n",
      "2017-01-06 09:22:00                518.740                519.592   \n",
      "\n",
      "                     Stock Price  Future Price  Y(Target)  \n",
      "2017-01-06 09:17:00      777.150       769.025      5.625  \n",
      "2017-01-06 09:18:00      772.700       766.075      5.400  \n",
      "2017-01-06 09:19:00      774.425       767.000      5.450  \n",
      "2017-01-06 09:20:00      779.625       771.175      5.175  \n",
      "2017-01-06 09:21:00      780.750       771.050      5.050  \n",
      "2017-01-06 09:22:00      787.100       778.675      5.225  \n",
      "\n",
      "[6 rows x 30 columns]\n"
     ]
    }
   ],
   "source": [
    "print(data.head(6))\n"
   ]
  },
  {
   "cell_type": "code",
   "execution_count": 21,
   "metadata": {},
   "outputs": [
    {
     "name": "stdout",
     "output_type": "stream",
     "text": [
      "Processing data for stock: MQK\n"
     ]
    }
   ],
   "source": [
    "dataSetId =  'trainingData1'\n",
    "ds_training = CsvDataSource(cachedFolderName='historicalData/',\n",
    "                             dataSetId=dataSetId,\n",
    "                             instrumentIds=instrumentIds,\n",
    "                             downloadUrl = downloadUrl,\n",
    "                             timeKey = 'datetime',\n",
    "                             timeStringFormat = '%Y-%m-%d %H:%M:%S',\n",
    "                             liveUpdates=False,\n",
    "                             pad=True)\n",
    "\n",
    "training_data = loadData(ds_training, instrumentIds[0])"
   ]
  },
  {
   "cell_type": "code",
   "execution_count": 22,
   "metadata": {},
   "outputs": [
    {
     "name": "stdout",
     "output_type": "stream",
     "text": [
      "Processing data for stock: MQK\n"
     ]
    }
   ],
   "source": [
    "dataSetId =  'trainingData2'\n",
    "ds_validation = CsvDataSource(cachedFolderName='historicalData/',\n",
    "                             dataSetId=dataSetId,\n",
    "                             instrumentIds=instrumentIds,\n",
    "                             downloadUrl = downloadUrl,\n",
    "                             timeKey = 'datetime',\n",
    "                             timeStringFormat = '%Y-%m-%d %H:%M:%S',\n",
    "                             liveUpdates=False,\n",
    "                             pad=True)\n",
    "validation_data = loadData(ds_validation, instrumentIds[0])"
   ]
  },
  {
   "cell_type": "code",
   "execution_count": 9,
   "metadata": {},
   "outputs": [
    {
     "name": "stdout",
     "output_type": "stream",
     "text": [
      "https://github.com/Auquan/auquan-historical-data/raw/master/qq2Data/trainingData3/stock_list.txt\n",
      "Downloading list of stocks to file: historicalData/trainingData3/stock_list.txt\n",
      "Processing data for stock: MQK\n",
      "Downloading MQK data to file: historicalData/trainingData3/MQK.csv\n"
     ]
    }
   ],
   "source": [
    "dataSetId =  'trainingData3'\n",
    "ds_test = CsvDataSource(cachedFolderName='historicalData/',\n",
    "                             dataSetId=dataSetId,\n",
    "                             instrumentIds=instrumentIds,\n",
    "                             downloadUrl = downloadUrl,\n",
    "                             timeKey = 'datetime',\n",
    "                             timeStringFormat = '%Y-%m-%d %H:%M:%S',\n",
    "                             liveUpdates=False,\n",
    "                             pad=True)\n",
    "out_of_sample_test_data = loadData(ds_test, instrumentIds[0])"
   ]
  },
  {
   "cell_type": "code",
   "execution_count": 24,
   "metadata": {},
   "outputs": [],
   "source": [
    "def prepareData(data, period):\n",
    "    data['Y(Target)'] = data['basis'].rolling(period).mean().shift(-period)\n",
    "    if 'FairValue' in data.columns:\n",
    "        del data['FairValue']\n",
    "    data.dropna(inplace=True)\n",
    "\n",
    "period = 5\n",
    "prepareData(training_data, period)\n",
    "prepareData(validation_data, period)\n",
    "prepareData(out_of_sample_test_data, period)"
   ]
  },
  {
   "cell_type": "code",
   "execution_count": 26,
   "metadata": {},
   "outputs": [],
   "source": [
    "def create_features_again(data):\n",
    "    basis_X = pd.DataFrame(index = data.index, columns =  [])\n",
    "    \n",
    "    basis_X['mom10'] = difference(data['basis'],11)\n",
    "    \n",
    "    basis_X['emabasis2'] = ewm(data['basis'],2)\n",
    "    basis_X['emabasis5'] = ewm(data['basis'],5)\n",
    "    basis_X['emabasis10'] = ewm(data['basis'],10)\n",
    "\n",
    "    basis_X['basis'] = data['basis']\n",
    "\n",
    "    basis_X['totalaskvolratio'] = (data['stockTotalAskVol']-data['futureTotalAskVol'])/100000\n",
    "    basis_X['totalbidvolratio'] = (data['stockTotalBidVol']-data['futureTotalBidVol'])/100000\n",
    "    \n",
    "    basis_X = basis_X.fillna(0)\n",
    "    \n",
    "    basis_y = data['Y(Target)']\n",
    "    basis_y.dropna(inplace=True)\n",
    "    \n",
    "    print(\"Any null data in y: %s, X: %s\"%(basis_y.isnull().values.any(), basis_X.isnull().values.any()))\n",
    "    print(\"Length y: %s, X: %s\"%(len(basis_y.index), len(basis_X.index)))\n",
    "    \n",
    "    return basis_X, basis_y"
   ]
  },
  {
   "cell_type": "code",
   "execution_count": null,
   "metadata": {},
   "outputs": [],
   "source": []
  }
 ],
 "metadata": {
  "kernelspec": {
   "display_name": "Python 3",
   "language": "python",
   "name": "python3"
  },
  "language_info": {
   "codemirror_mode": {
    "name": "ipython",
    "version": 3
   },
   "file_extension": ".py",
   "mimetype": "text/x-python",
   "name": "python",
   "nbconvert_exporter": "python",
   "pygments_lexer": "ipython3",
   "version": "3.7.4"
  }
 },
 "nbformat": 4,
 "nbformat_minor": 2
}
